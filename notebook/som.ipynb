{
 "metadata": {
  "name": ""
 },
 "nbformat": 3,
 "nbformat_minor": 0,
 "worksheets": [
  {
   "cells": [
    {
     "cell_type": "code",
     "collapsed": false,
     "input": [
      "from pytriqs.applications.my_project import MyClass"
     ],
     "language": "python",
     "metadata": {},
     "outputs": [],
     "prompt_number": 5
    },
    {
     "cell_type": "code",
     "collapsed": false,
     "input": [
      "c = MyClass(beta=1.0, Arr = array([0.1]))"
     ],
     "language": "python",
     "metadata": {},
     "outputs": [],
     "prompt_number": 6
    },
    {
     "cell_type": "code",
     "collapsed": false,
     "input": [
      "print 'g2 = ', c.g2\n",
      "print 'g3 = ', c.g3\n",
      "print 'Arr = ', c.Arr\n",
      "print 'ar = ', c.ar\n",
      "print 'beta = ', c.beta\n",
      "print 'm = ', c.m"
     ],
     "language": "python",
     "metadata": {},
     "outputs": [
      {
       "output_type": "stream",
       "stream": "stdout",
       "text": [
        "g2 =  g2(w)\n",
        "g3 =  g3(tau)\n",
        "Arr =  (array([ 0.1]), 'Arr')\n",
        "ar =  (array([ 0.,  1.,  2.,  3.]), 'ar')\n",
        "beta =  1.0\n",
        "m =  [[ 0.  1.]\n",
        " [ 2.  3.]]\n"
       ]
      }
     ],
     "prompt_number": 9
    },
    {
     "cell_type": "code",
     "collapsed": false,
     "input": [],
     "language": "python",
     "metadata": {},
     "outputs": [],
     "prompt_number": 3
    },
    {
     "cell_type": "code",
     "collapsed": false,
     "input": [],
     "language": "python",
     "metadata": {},
     "outputs": []
    }
   ],
   "metadata": {}
  }
 ]
}